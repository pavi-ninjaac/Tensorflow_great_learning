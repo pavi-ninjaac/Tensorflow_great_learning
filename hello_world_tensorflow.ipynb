{
  "nbformat": 4,
  "nbformat_minor": 0,
  "metadata": {
    "colab": {
      "name": "hello_world_tensorflow.ipynb",
      "provenance": [],
      "authorship_tag": "ABX9TyO4DouKnnXu0d1K18y1WgGg",
      "include_colab_link": true
    },
    "kernelspec": {
      "name": "python3",
      "display_name": "Python 3"
    }
  },
  "cells": [
    {
      "cell_type": "markdown",
      "metadata": {
        "id": "view-in-github",
        "colab_type": "text"
      },
      "source": [
        "<a href=\"https://colab.research.google.com/github/pavi-ninjaac/Tensorflow_great_learning/blob/master/hello_world_tensorflow.ipynb\" target=\"_parent\"><img src=\"https://colab.research.google.com/assets/colab-badge.svg\" alt=\"Open In Colab\"/></a>"
      ]
    },
    {
      "cell_type": "code",
      "metadata": {
        "id": "SenJD9Yxqu-n",
        "colab_type": "code",
        "colab": {}
      },
      "source": [
        "import tensorflow as tf"
      ],
      "execution_count": 3,
      "outputs": []
    },
    {
      "cell_type": "code",
      "metadata": {
        "id": "RIeNNb0yrBZ7",
        "colab_type": "code",
        "colab": {}
      },
      "source": [
        "import keras "
      ],
      "execution_count": 2,
      "outputs": []
    },
    {
      "cell_type": "code",
      "metadata": {
        "id": "Yw03pTNdrFG4",
        "colab_type": "code",
        "colab": {}
      },
      "source": [
        "hello=tf.constant('hello world',name='hello')"
      ],
      "execution_count": 4,
      "outputs": []
    },
    {
      "cell_type": "code",
      "metadata": {
        "id": "4qV_r47lryAx",
        "colab_type": "code",
        "colab": {
          "base_uri": "https://localhost:8080/",
          "height": 34
        },
        "outputId": "443d7c22-d590-49f4-c363-827dd9653571"
      },
      "source": [
        "print(hello)"
      ],
      "execution_count": 6,
      "outputs": [
        {
          "output_type": "stream",
          "text": [
            "tf.Tensor(b'hello world', shape=(), dtype=string)\n"
          ],
          "name": "stdout"
        }
      ]
    },
    {
      "cell_type": "code",
      "metadata": {
        "id": "gYQ-xqS0rzbU",
        "colab_type": "code",
        "colab": {
          "base_uri": "https://localhost:8080/",
          "height": 136
        },
        "outputId": "66a4bfce-70e1-4790-d681-08ebc557c431"
      },
      "source": [
        "hello_2=tf.constant('hello world',shape=[6,2])\n",
        "print(hello_2)"
      ],
      "execution_count": 7,
      "outputs": [
        {
          "output_type": "stream",
          "text": [
            "tf.Tensor(\n",
            "[[b'hello world' b'hello world']\n",
            " [b'hello world' b'hello world']\n",
            " [b'hello world' b'hello world']\n",
            " [b'hello world' b'hello world']\n",
            " [b'hello world' b'hello world']\n",
            " [b'hello world' b'hello world']], shape=(6, 2), dtype=string)\n"
          ],
          "name": "stdout"
        }
      ]
    },
    {
      "cell_type": "markdown",
      "metadata": {
        "id": "d-L9RtQvsbIf",
        "colab_type": "text"
      },
      "source": [
        "print hello world using the session"
      ]
    },
    {
      "cell_type": "code",
      "metadata": {
        "id": "8sqDk31BsQ9j",
        "colab_type": "code",
        "colab": {
          "base_uri": "https://localhost:8080/",
          "height": 187
        },
        "outputId": "73a58dff-1c26-40cc-fe4f-1d21303c7096"
      },
      "source": [
        "hello3=tf.constant(3,name='3',shape=[9,3])\n",
        "print(hello3)"
      ],
      "execution_count": 14,
      "outputs": [
        {
          "output_type": "stream",
          "text": [
            "tf.Tensor(\n",
            "[[3 3 3]\n",
            " [3 3 3]\n",
            " [3 3 3]\n",
            " [3 3 3]\n",
            " [3 3 3]\n",
            " [3 3 3]\n",
            " [3 3 3]\n",
            " [3 3 3]\n",
            " [3 3 3]], shape=(9, 3), dtype=int32)\n"
          ],
          "name": "stdout"
        }
      ]
    },
    {
      "cell_type": "code",
      "metadata": {
        "id": "Lby1nRDyshi2",
        "colab_type": "code",
        "colab": {}
      },
      "source": [
        ""
      ],
      "execution_count": null,
      "outputs": []
    }
  ]
}