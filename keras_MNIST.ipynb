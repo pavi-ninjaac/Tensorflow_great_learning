{
  "nbformat": 4,
  "nbformat_minor": 0,
  "metadata": {
    "colab": {
      "name": "keras_MNIST.ipynb",
      "provenance": [],
      "collapsed_sections": []
    },
    "kernelspec": {
      "name": "python3",
      "display_name": "Python 3"
    }
  },
  "cells": [
    {
      "cell_type": "code",
      "metadata": {
        "id": "eEO7mUS-FhYW",
        "colab_type": "code",
        "colab": {}
      },
      "source": [
        "import tensorflow as tf\n"
      ],
      "execution_count": 1,
      "outputs": []
    },
    {
      "cell_type": "markdown",
      "metadata": {
        "id": "Ki5Xp0fiFrM6",
        "colab_type": "text"
      },
      "source": [
        "# load the dataset here it is MNIST"
      ]
    },
    {
      "cell_type": "code",
      "metadata": {
        "id": "VBAvQD7iFpHm",
        "colab_type": "code",
        "colab": {}
      },
      "source": [
        "(X_train,y_train),(X_test,y_test)=tf.keras.datasets.mnist.load_data()"
      ],
      "execution_count": 9,
      "outputs": []
    },
    {
      "cell_type": "code",
      "metadata": {
        "id": "WyVtUxs_GtbR",
        "colab_type": "code",
        "colab": {
          "base_uri": "https://localhost:8080/",
          "height": 51
        },
        "outputId": "286dc3ae-5bc8-4985-b33a-28e32275c814"
      },
      "source": [
        "print(\"shape of the trainig data\",X_train.shape)\n",
        "print(\"shape of the testing data\",X_test.shape)"
      ],
      "execution_count": 5,
      "outputs": [
        {
          "output_type": "stream",
          "text": [
            "shape of the trainig data (60000, 28, 28)\n",
            "shape of the testing data (10000, 28, 28)\n"
          ],
          "name": "stdout"
        }
      ]
    },
    {
      "cell_type": "markdown",
      "metadata": {
        "id": "-z8XFCSNHC60",
        "colab_type": "text"
      },
      "source": [
        "do onehot encoding"
      ]
    },
    {
      "cell_type": "code",
      "metadata": {
        "id": "mH8goSaWHcmh",
        "colab_type": "code",
        "colab": {
          "base_uri": "https://localhost:8080/",
          "height": 34
        },
        "outputId": "f5bc2cac-59f0-41fa-b3fa-897ec2e349fc"
      },
      "source": [
        "print(y_test[0])"
      ],
      "execution_count": 10,
      "outputs": [
        {
          "output_type": "stream",
          "text": [
            "7\n"
          ],
          "name": "stdout"
        }
      ]
    },
    {
      "cell_type": "code",
      "metadata": {
        "id": "jB0itHvHG0HB",
        "colab_type": "code",
        "colab": {}
      },
      "source": [
        "y_train=tf.keras.utils.to_categorical(y_train,num_classes=10)\n",
        "y_test=tf.keras.utils.to_categorical(y_test,num_classes=10)"
      ],
      "execution_count": 11,
      "outputs": []
    },
    {
      "cell_type": "code",
      "metadata": {
        "id": "e_fWQJV4HW1S",
        "colab_type": "code",
        "colab": {
          "base_uri": "https://localhost:8080/",
          "height": 34
        },
        "outputId": "1736ae1b-4076-4314-bfb6-a59d556ede47"
      },
      "source": [
        "print(y_test[0])"
      ],
      "execution_count": 12,
      "outputs": [
        {
          "output_type": "stream",
          "text": [
            "[0. 0. 0. 0. 0. 0. 0. 1. 0. 0.]\n"
          ],
          "name": "stdout"
        }
      ]
    },
    {
      "cell_type": "markdown",
      "metadata": {
        "id": "A8R3ovXhHnR7",
        "colab_type": "text"
      },
      "source": [
        "# build the graph"
      ]
    },
    {
      "cell_type": "code",
      "metadata": {
        "id": "djGc2MAaHakq",
        "colab_type": "code",
        "colab": {}
      },
      "source": [
        "model=tf.keras.Sequential()"
      ],
      "execution_count": 13,
      "outputs": []
    },
    {
      "cell_type": "code",
      "metadata": {
        "id": "FclywKdmHseo",
        "colab_type": "code",
        "colab": {}
      },
      "source": [
        "model.add(tf.keras.layers.Reshape((784,),input_shape=(28,28,)))"
      ],
      "execution_count": 14,
      "outputs": []
    },
    {
      "cell_type": "code",
      "metadata": {
        "id": "160q6DoHIHvs",
        "colab_type": "code",
        "colab": {}
      },
      "source": [
        "model.add(tf.keras.layers.BatchNormalization())"
      ],
      "execution_count": 15,
      "outputs": []
    },
    {
      "cell_type": "code",
      "metadata": {
        "id": "_FA2DL-WH-Nx",
        "colab_type": "code",
        "colab": {}
      },
      "source": [
        "#200 means 200 output nuerons\n",
        "model.add(tf.keras.layers.Dense(200,activation='sigmoid'))"
      ],
      "execution_count": 17,
      "outputs": []
    },
    {
      "cell_type": "code",
      "metadata": {
        "id": "GGoGu4dqIS4G",
        "colab_type": "code",
        "colab": {}
      },
      "source": [
        "model.add(tf.keras.layers.Dense(100,activation='sigmoid'))\n",
        "model.add(tf.keras.layers.Dropout(0.5))"
      ],
      "execution_count": 18,
      "outputs": []
    },
    {
      "cell_type": "code",
      "metadata": {
        "id": "EjpBfmUZImuf",
        "colab_type": "code",
        "colab": {}
      },
      "source": [
        "model.add(tf.keras.layers.Dense(60,activation='sigmoid'))\n",
        "model.add(tf.keras.layers.Dropout(0.5))"
      ],
      "execution_count": 19,
      "outputs": []
    },
    {
      "cell_type": "code",
      "metadata": {
        "id": "m6ojgsj3I2UG",
        "colab_type": "code",
        "colab": {}
      },
      "source": [
        "model.add(tf.keras.layers.Dense(30,activation='sigmoid'))\n",
        "model.add(tf.keras.layers.Dense(10,activation='softmax'))"
      ],
      "execution_count": 20,
      "outputs": []
    },
    {
      "cell_type": "code",
      "metadata": {
        "id": "Uo0RgJ5dJFUP",
        "colab_type": "code",
        "colab": {}
      },
      "source": [
        "#model.compile(optimizer='adam',loss='categorical_crossentropy', metrics=['accuracy'])\n",
        "#the default laernign rate is 0.01 for adam if you wnat to change that one do followingly\n",
        "adam_change=tf.keras.optimizers.Adam(learning_rate=0.03)\n",
        "model.compile(optimizer=adam_change,loss='categorical_crossentropy',metrics=['accuracy'])"
      ],
      "execution_count": 22,
      "outputs": []
    },
    {
      "cell_type": "code",
      "metadata": {
        "id": "OasdbRCAJRha",
        "colab_type": "code",
        "colab": {
          "base_uri": "https://localhost:8080/",
          "height": 493
        },
        "outputId": "1523b61a-12ef-4913-eac8-1d0068a8f4bf"
      },
      "source": [
        "model.summary()"
      ],
      "execution_count": 23,
      "outputs": [
        {
          "output_type": "stream",
          "text": [
            "Model: \"sequential\"\n",
            "_________________________________________________________________\n",
            "Layer (type)                 Output Shape              Param #   \n",
            "=================================================================\n",
            "reshape (Reshape)            (None, 784)               0         \n",
            "_________________________________________________________________\n",
            "batch_normalization (BatchNo (None, 784)               3136      \n",
            "_________________________________________________________________\n",
            "dense (Dense)                (None, 200)               157000    \n",
            "_________________________________________________________________\n",
            "dense_1 (Dense)              (None, 200)               40200     \n",
            "_________________________________________________________________\n",
            "dense_2 (Dense)              (None, 100)               20100     \n",
            "_________________________________________________________________\n",
            "dropout (Dropout)            (None, 100)               0         \n",
            "_________________________________________________________________\n",
            "dense_3 (Dense)              (None, 60)                6060      \n",
            "_________________________________________________________________\n",
            "dropout_1 (Dropout)          (None, 60)                0         \n",
            "_________________________________________________________________\n",
            "dense_4 (Dense)              (None, 30)                1830      \n",
            "_________________________________________________________________\n",
            "dense_5 (Dense)              (None, 10)                310       \n",
            "=================================================================\n",
            "Total params: 228,636\n",
            "Trainable params: 227,068\n",
            "Non-trainable params: 1,568\n",
            "_________________________________________________________________\n"
          ],
          "name": "stdout"
        }
      ]
    },
    {
      "cell_type": "markdown",
      "metadata": {
        "id": "8xhE1AQXKMEG",
        "colab_type": "text"
      },
      "source": [
        "# run the model\n"
      ]
    },
    {
      "cell_type": "code",
      "metadata": {
        "id": "eojQZu4zKBuw",
        "colab_type": "code",
        "colab": {
          "base_uri": "https://localhost:8080/",
          "height": 204
        },
        "outputId": "1feaa861-190c-40ba-d081-b3b1845eee54"
      },
      "source": [
        "model.fit(X_train,y_train,\n",
        "          epochs=5,\n",
        "          validation_data=(X_test,y_test),\n",
        "          batch_size=32)"
      ],
      "execution_count": 24,
      "outputs": [
        {
          "output_type": "stream",
          "text": [
            "Epoch 1/5\n",
            "1875/1875 [==============================] - 8s 4ms/step - loss: 2.0254 - accuracy: 0.1875 - val_loss: 1.9238 - val_accuracy: 0.2095\n",
            "Epoch 2/5\n",
            "1875/1875 [==============================] - 8s 4ms/step - loss: 1.9680 - accuracy: 0.2047 - val_loss: 1.8586 - val_accuracy: 0.2380\n",
            "Epoch 3/5\n",
            "1875/1875 [==============================] - 8s 4ms/step - loss: 1.9636 - accuracy: 0.2119 - val_loss: 1.8692 - val_accuracy: 0.2230\n",
            "Epoch 4/5\n",
            "1875/1875 [==============================] - 8s 4ms/step - loss: 1.9680 - accuracy: 0.2088 - val_loss: 1.8373 - val_accuracy: 0.2506\n",
            "Epoch 5/5\n",
            "1875/1875 [==============================] - 8s 4ms/step - loss: 2.0024 - accuracy: 0.2069 - val_loss: 1.8788 - val_accuracy: 0.2370\n"
          ],
          "name": "stdout"
        },
        {
          "output_type": "execute_result",
          "data": {
            "text/plain": [
              "<tensorflow.python.keras.callbacks.History at 0x7fccf49d7ef0>"
            ]
          },
          "metadata": {
            "tags": []
          },
          "execution_count": 24
        }
      ]
    },
    {
      "cell_type": "code",
      "metadata": {
        "id": "Q6W2iH3bKicv",
        "colab_type": "code",
        "colab": {}
      },
      "source": [
        "# change the learning rate to get the more accurate model"
      ],
      "execution_count": 25,
      "outputs": []
    },
    {
      "cell_type": "code",
      "metadata": {
        "id": "S5lZIkxiK4m_",
        "colab_type": "code",
        "colab": {}
      },
      "source": [
        ""
      ],
      "execution_count": null,
      "outputs": []
    }
  ]
}