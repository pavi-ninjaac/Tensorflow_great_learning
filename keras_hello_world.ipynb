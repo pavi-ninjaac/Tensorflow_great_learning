{
  "nbformat": 4,
  "nbformat_minor": 0,
  "metadata": {
    "colab": {
      "name": "Untitled1.ipynb",
      "provenance": [],
      "authorship_tag": "ABX9TyMFLVHX2aAMkyS9/okGVYsE",
      "include_colab_link": true
    },
    "kernelspec": {
      "name": "python3",
      "display_name": "Python 3"
    }
  },
  "cells": [
    {
      "cell_type": "markdown",
      "metadata": {
        "id": "view-in-github",
        "colab_type": "text"
      },
      "source": [
        "<a href=\"https://colab.research.google.com/github/pavi-ninjaac/Tensorflow_great_learning/blob/master/keras_hello_world.ipynb\" target=\"_parent\"><img src=\"https://colab.research.google.com/assets/colab-badge.svg\" alt=\"Open In Colab\"/></a>"
      ]
    },
    {
      "cell_type": "code",
      "metadata": {
        "id": "ZqyLz0Y11LQe",
        "colab_type": "code",
        "colab": {}
      },
      "source": [
        "import tensorflow as tf"
      ],
      "execution_count": 1,
      "outputs": []
    },
    {
      "cell_type": "code",
      "metadata": {
        "id": "UDIn7m5H1eGg",
        "colab_type": "code",
        "colab": {}
      },
      "source": [
        "import keras"
      ],
      "execution_count": 2,
      "outputs": []
    },
    {
      "cell_type": "code",
      "metadata": {
        "id": "jtUwtkJL1fzw",
        "colab_type": "code",
        "colab": {
          "base_uri": "https://localhost:8080/",
          "height": 35
        },
        "outputId": "fdc8b11b-f3ba-4b57-c29c-d39e2bbf8d10"
      },
      "source": [
        "tf.keras.__version__"
      ],
      "execution_count": 3,
      "outputs": [
        {
          "output_type": "execute_result",
          "data": {
            "application/vnd.google.colaboratory.intrinsic+json": {
              "type": "string"
            },
            "text/plain": [
              "'2.4.0'"
            ]
          },
          "metadata": {
            "tags": []
          },
          "execution_count": 3
        }
      ]
    },
    {
      "cell_type": "code",
      "metadata": {
        "id": "eShZIboP1m4U",
        "colab_type": "code",
        "colab": {
          "base_uri": "https://localhost:8080/",
          "height": 35
        },
        "outputId": "87cbf5e9-80f4-4da6-cf9f-8b8abdb8275f"
      },
      "source": [
        "keras.__version__"
      ],
      "execution_count": 4,
      "outputs": [
        {
          "output_type": "execute_result",
          "data": {
            "application/vnd.google.colaboratory.intrinsic+json": {
              "type": "string"
            },
            "text/plain": [
              "'2.4.3'"
            ]
          },
          "metadata": {
            "tags": []
          },
          "execution_count": 4
        }
      ]
    },
    {
      "cell_type": "code",
      "metadata": {
        "id": "hbSzMczY1qXW",
        "colab_type": "code",
        "colab": {
          "base_uri": "https://localhost:8080/",
          "height": 51
        },
        "outputId": "5f0eb81c-980a-49d6-9f60-ebccb2d85ba1"
      },
      "source": [
        "(features, actual_prices),_ = tf.keras.datasets.boston_housing.load_data(test_split=0)"
      ],
      "execution_count": 5,
      "outputs": [
        {
          "output_type": "stream",
          "text": [
            "Downloading data from https://storage.googleapis.com/tensorflow/tf-keras-datasets/boston_housing.npz\n",
            "57344/57026 [==============================] - 0s 0us/step\n"
          ],
          "name": "stdout"
        }
      ]
    },
    {
      "cell_type": "code",
      "metadata": {
        "id": "pBKgk7md1xuA",
        "colab_type": "code",
        "colab": {
          "base_uri": "https://localhost:8080/",
          "height": 68
        },
        "outputId": "7f8af775-8b96-4426-9cb0-7a20b74aac2a"
      },
      "source": [
        "print('Number of examples: ', features.shape[0])\n",
        "print('Number of features for each example: ', features.shape[1])\n",
        "print('Shape of actual prices data: ', actual_prices.shape)"
      ],
      "execution_count": 6,
      "outputs": [
        {
          "output_type": "stream",
          "text": [
            "Number of examples:  506\n",
            "Number of features for each example:  13\n",
            "Shape of actual prices data:  (506,)\n"
          ],
          "name": "stdout"
        }
      ]
    },
    {
      "cell_type": "markdown",
      "metadata": {
        "id": "UiR7b5PF11rt",
        "colab_type": "text"
      },
      "source": [
        "## Building the graph in keras"
      ]
    },
    {
      "cell_type": "code",
      "metadata": {
        "id": "JyNCavs610MO",
        "colab_type": "code",
        "colab": {}
      },
      "source": [
        "model=keras.Sequential()"
      ],
      "execution_count": 7,
      "outputs": []
    },
    {
      "cell_type": "code",
      "metadata": {
        "id": "ufm-hzTh2Fhn",
        "colab_type": "code",
        "colab": {}
      },
      "source": [
        "model.add(keras.layers.BatchNormalization(input_shape=(13,)))"
      ],
      "execution_count": 8,
      "outputs": []
    },
    {
      "cell_type": "code",
      "metadata": {
        "id": "dN5k0vp92XdU",
        "colab_type": "code",
        "colab": {}
      },
      "source": [
        "# 1 repsent the 1 output\n",
        "model.add(keras.layers.Dense(1))"
      ],
      "execution_count": 11,
      "outputs": []
    },
    {
      "cell_type": "code",
      "metadata": {
        "id": "L1zicbEy2iM5",
        "colab_type": "code",
        "colab": {}
      },
      "source": [
        "model.compile(optimizer='sgd',loss='mse')"
      ],
      "execution_count": 12,
      "outputs": []
    },
    {
      "cell_type": "markdown",
      "metadata": {
        "id": "Bx1Uasq923QM",
        "colab_type": "text"
      },
      "source": [
        "# Execute the graph using keras"
      ]
    },
    {
      "cell_type": "code",
      "metadata": {
        "id": "-6Zdd12921AK",
        "colab_type": "code",
        "colab": {
          "base_uri": "https://localhost:8080/",
          "height": 1000
        },
        "outputId": "51f865df-9aeb-4909-9dfd-a22f5e754712"
      },
      "source": [
        "model.fit(features,actual_prices,epochs=100)"
      ],
      "execution_count": 13,
      "outputs": [
        {
          "output_type": "stream",
          "text": [
            "Epoch 1/100\n",
            "16/16 [==============================] - 0s 1ms/step - loss: 223.6657\n",
            "Epoch 2/100\n",
            "16/16 [==============================] - 0s 982us/step - loss: 189.1332\n",
            "Epoch 3/100\n",
            "16/16 [==============================] - 0s 906us/step - loss: 46.6761\n",
            "Epoch 4/100\n",
            "16/16 [==============================] - 0s 995us/step - loss: 29.8067\n",
            "Epoch 5/100\n",
            "16/16 [==============================] - 0s 1ms/step - loss: 34.9615\n",
            "Epoch 6/100\n",
            "16/16 [==============================] - 0s 1ms/step - loss: 35.8021\n",
            "Epoch 7/100\n",
            "16/16 [==============================] - 0s 957us/step - loss: 52.9090\n",
            "Epoch 8/100\n",
            "16/16 [==============================] - 0s 966us/step - loss: 34.8569\n",
            "Epoch 9/100\n",
            "16/16 [==============================] - 0s 1ms/step - loss: 37.5114\n",
            "Epoch 10/100\n",
            "16/16 [==============================] - 0s 994us/step - loss: 31.0881\n",
            "Epoch 11/100\n",
            "16/16 [==============================] - 0s 1ms/step - loss: 40.4206\n",
            "Epoch 12/100\n",
            "16/16 [==============================] - 0s 1ms/step - loss: 32.9800\n",
            "Epoch 13/100\n",
            "16/16 [==============================] - 0s 991us/step - loss: 44.5560\n",
            "Epoch 14/100\n",
            "16/16 [==============================] - 0s 965us/step - loss: 34.6663\n",
            "Epoch 15/100\n",
            "16/16 [==============================] - 0s 1ms/step - loss: 38.8562\n",
            "Epoch 16/100\n",
            "16/16 [==============================] - 0s 1ms/step - loss: 38.1754\n",
            "Epoch 17/100\n",
            "16/16 [==============================] - 0s 1ms/step - loss: 35.1016\n",
            "Epoch 18/100\n",
            "16/16 [==============================] - 0s 1ms/step - loss: 36.0307\n",
            "Epoch 19/100\n",
            "16/16 [==============================] - 0s 971us/step - loss: 35.6505\n",
            "Epoch 20/100\n",
            "16/16 [==============================] - 0s 1ms/step - loss: 39.4968\n",
            "Epoch 21/100\n",
            "16/16 [==============================] - 0s 1ms/step - loss: 33.5536\n",
            "Epoch 22/100\n",
            "16/16 [==============================] - 0s 1ms/step - loss: 37.3027\n",
            "Epoch 23/100\n",
            "16/16 [==============================] - 0s 1ms/step - loss: 30.3393\n",
            "Epoch 24/100\n",
            "16/16 [==============================] - 0s 1ms/step - loss: 30.6497\n",
            "Epoch 25/100\n",
            "16/16 [==============================] - 0s 1ms/step - loss: 35.2341\n",
            "Epoch 26/100\n",
            "16/16 [==============================] - 0s 1ms/step - loss: 38.8205\n",
            "Epoch 27/100\n",
            "16/16 [==============================] - 0s 953us/step - loss: 36.2902\n",
            "Epoch 28/100\n",
            "16/16 [==============================] - 0s 1ms/step - loss: 37.4149\n",
            "Epoch 29/100\n",
            "16/16 [==============================] - 0s 1ms/step - loss: 32.9380\n",
            "Epoch 30/100\n",
            "16/16 [==============================] - 0s 955us/step - loss: 28.6198\n",
            "Epoch 31/100\n",
            "16/16 [==============================] - 0s 1ms/step - loss: 30.7194\n",
            "Epoch 32/100\n",
            "16/16 [==============================] - 0s 996us/step - loss: 27.9608\n",
            "Epoch 33/100\n",
            "16/16 [==============================] - 0s 958us/step - loss: 29.9369\n",
            "Epoch 34/100\n",
            "16/16 [==============================] - 0s 962us/step - loss: 29.2726\n",
            "Epoch 35/100\n",
            "16/16 [==============================] - 0s 1ms/step - loss: 49.5462\n",
            "Epoch 36/100\n",
            "16/16 [==============================] - 0s 1ms/step - loss: 29.5079\n",
            "Epoch 37/100\n",
            "16/16 [==============================] - 0s 983us/step - loss: 37.9912\n",
            "Epoch 38/100\n",
            "16/16 [==============================] - 0s 979us/step - loss: 33.7728\n",
            "Epoch 39/100\n",
            "16/16 [==============================] - 0s 1ms/step - loss: 35.1508\n",
            "Epoch 40/100\n",
            "16/16 [==============================] - 0s 1ms/step - loss: 37.4177\n",
            "Epoch 41/100\n",
            "16/16 [==============================] - 0s 1ms/step - loss: 31.0743\n",
            "Epoch 42/100\n",
            "16/16 [==============================] - 0s 1ms/step - loss: 34.4665\n",
            "Epoch 43/100\n",
            "16/16 [==============================] - 0s 1ms/step - loss: 44.1671\n",
            "Epoch 44/100\n",
            "16/16 [==============================] - 0s 1ms/step - loss: 33.3243\n",
            "Epoch 45/100\n",
            "16/16 [==============================] - 0s 969us/step - loss: 37.5336\n",
            "Epoch 46/100\n",
            "16/16 [==============================] - 0s 993us/step - loss: 37.2215\n",
            "Epoch 47/100\n",
            "16/16 [==============================] - 0s 1ms/step - loss: 36.0722\n",
            "Epoch 48/100\n",
            "16/16 [==============================] - 0s 1ms/step - loss: 38.6491\n",
            "Epoch 49/100\n",
            "16/16 [==============================] - 0s 1ms/step - loss: 32.1364\n",
            "Epoch 50/100\n",
            "16/16 [==============================] - 0s 972us/step - loss: 36.5600\n",
            "Epoch 51/100\n",
            "16/16 [==============================] - 0s 1ms/step - loss: 35.6958\n",
            "Epoch 52/100\n",
            "16/16 [==============================] - 0s 1ms/step - loss: 33.2453\n",
            "Epoch 53/100\n",
            "16/16 [==============================] - 0s 1ms/step - loss: 28.2167\n",
            "Epoch 54/100\n",
            "16/16 [==============================] - 0s 1ms/step - loss: 29.3567\n",
            "Epoch 55/100\n",
            "16/16 [==============================] - 0s 1ms/step - loss: 43.8108\n",
            "Epoch 56/100\n",
            "16/16 [==============================] - 0s 1ms/step - loss: 34.5138\n",
            "Epoch 57/100\n",
            "16/16 [==============================] - 0s 1ms/step - loss: 32.2975\n",
            "Epoch 58/100\n",
            "16/16 [==============================] - 0s 980us/step - loss: 43.8628\n",
            "Epoch 59/100\n",
            "16/16 [==============================] - 0s 944us/step - loss: 28.3652\n",
            "Epoch 60/100\n",
            "16/16 [==============================] - 0s 1ms/step - loss: 33.1002\n",
            "Epoch 61/100\n",
            "16/16 [==============================] - 0s 1ms/step - loss: 31.1224\n",
            "Epoch 62/100\n",
            "16/16 [==============================] - 0s 1ms/step - loss: 35.1132\n",
            "Epoch 63/100\n",
            "16/16 [==============================] - 0s 1ms/step - loss: 34.7565\n",
            "Epoch 64/100\n",
            "16/16 [==============================] - 0s 1ms/step - loss: 31.4940\n",
            "Epoch 65/100\n",
            "16/16 [==============================] - 0s 1ms/step - loss: 32.9032\n",
            "Epoch 66/100\n",
            "16/16 [==============================] - 0s 977us/step - loss: 41.5797\n",
            "Epoch 67/100\n",
            "16/16 [==============================] - 0s 1ms/step - loss: 35.2758\n",
            "Epoch 68/100\n",
            "16/16 [==============================] - 0s 1ms/step - loss: 35.9391\n",
            "Epoch 69/100\n",
            "16/16 [==============================] - 0s 1ms/step - loss: 37.9203\n",
            "Epoch 70/100\n",
            "16/16 [==============================] - 0s 1ms/step - loss: 31.2343\n",
            "Epoch 71/100\n",
            "16/16 [==============================] - 0s 1ms/step - loss: 32.4537\n",
            "Epoch 72/100\n",
            "16/16 [==============================] - 0s 1ms/step - loss: 30.0293\n",
            "Epoch 73/100\n",
            "16/16 [==============================] - 0s 1ms/step - loss: 32.1985\n",
            "Epoch 74/100\n",
            "16/16 [==============================] - 0s 1ms/step - loss: 28.8908\n",
            "Epoch 75/100\n",
            "16/16 [==============================] - 0s 1ms/step - loss: 30.7813\n",
            "Epoch 76/100\n",
            "16/16 [==============================] - 0s 1ms/step - loss: 28.0971\n",
            "Epoch 77/100\n",
            "16/16 [==============================] - 0s 1ms/step - loss: 36.2350\n",
            "Epoch 78/100\n",
            "16/16 [==============================] - 0s 1ms/step - loss: 29.4618\n",
            "Epoch 79/100\n",
            "16/16 [==============================] - 0s 1ms/step - loss: 30.3701\n",
            "Epoch 80/100\n",
            "16/16 [==============================] - 0s 1ms/step - loss: 32.3064\n",
            "Epoch 81/100\n",
            "16/16 [==============================] - 0s 1ms/step - loss: 31.4055\n",
            "Epoch 82/100\n",
            "16/16 [==============================] - 0s 1ms/step - loss: 33.0846\n",
            "Epoch 83/100\n",
            "16/16 [==============================] - 0s 1ms/step - loss: 41.3274\n",
            "Epoch 84/100\n",
            "16/16 [==============================] - 0s 1ms/step - loss: 30.2198\n",
            "Epoch 85/100\n",
            "16/16 [==============================] - 0s 946us/step - loss: 31.8010\n",
            "Epoch 86/100\n",
            "16/16 [==============================] - 0s 1ms/step - loss: 29.4894\n",
            "Epoch 87/100\n",
            "16/16 [==============================] - 0s 1ms/step - loss: 32.9205\n",
            "Epoch 88/100\n",
            "16/16 [==============================] - 0s 992us/step - loss: 33.0541\n",
            "Epoch 89/100\n",
            "16/16 [==============================] - 0s 1ms/step - loss: 32.6056\n",
            "Epoch 90/100\n",
            "16/16 [==============================] - 0s 995us/step - loss: 28.5598\n",
            "Epoch 91/100\n",
            "16/16 [==============================] - 0s 951us/step - loss: 28.5627\n",
            "Epoch 92/100\n",
            "16/16 [==============================] - 0s 942us/step - loss: 35.7074\n",
            "Epoch 93/100\n",
            "16/16 [==============================] - 0s 949us/step - loss: 39.0632\n",
            "Epoch 94/100\n",
            "16/16 [==============================] - 0s 965us/step - loss: 33.6661\n",
            "Epoch 95/100\n",
            "16/16 [==============================] - 0s 923us/step - loss: 29.7801\n",
            "Epoch 96/100\n",
            "16/16 [==============================] - 0s 924us/step - loss: 32.7559\n",
            "Epoch 97/100\n",
            "16/16 [==============================] - 0s 1ms/step - loss: 37.0212\n",
            "Epoch 98/100\n",
            "16/16 [==============================] - 0s 976us/step - loss: 30.3072\n",
            "Epoch 99/100\n",
            "16/16 [==============================] - 0s 1ms/step - loss: 35.8681\n",
            "Epoch 100/100\n",
            "16/16 [==============================] - 0s 1ms/step - loss: 29.6427\n"
          ],
          "name": "stdout"
        },
        {
          "output_type": "execute_result",
          "data": {
            "text/plain": [
              "<tensorflow.python.keras.callbacks.History at 0x7f809ea71ba8>"
            ]
          },
          "metadata": {
            "tags": []
          },
          "execution_count": 13
        }
      ]
    },
    {
      "cell_type": "markdown",
      "metadata": {
        "id": "VYlcLoc33RAx",
        "colab_type": "text"
      },
      "source": [
        "# save the model"
      ]
    },
    {
      "cell_type": "code",
      "metadata": {
        "id": "OuDSoRJ23KiV",
        "colab_type": "code",
        "colab": {}
      },
      "source": [
        "model.save('/tmp/boston_housing_lr.h5')"
      ],
      "execution_count": null,
      "outputs": []
    }
  ]
}